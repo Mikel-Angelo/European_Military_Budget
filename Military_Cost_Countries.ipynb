{
 "cells": [
  {
   "cell_type": "markdown",
   "id": "d323b832",
   "metadata": {},
   "source": [
    "# Import Libraries"
   ]
  },
  {
   "cell_type": "code",
   "execution_count": 1,
   "id": "57d171c7",
   "metadata": {},
   "outputs": [],
   "source": [
    "import pandas as pd\n",
    "import warnings\n",
    "import numpy as np\n",
    "import matplotlib.pyplot as plt\n",
    "import bar_chart_race as bcr\n",
    "\n",
    "warnings.filterwarnings(\"ignore\")"
   ]
  },
  {
   "cell_type": "markdown",
   "id": "b4fe7932",
   "metadata": {},
   "source": [
    "---\n",
    "* Extract Data"
   ]
  },
  {
   "cell_type": "code",
   "execution_count": 2,
   "id": "0813f089",
   "metadata": {},
   "outputs": [],
   "source": [
    "df = pd.read_csv('CSV_FILE')\n",
    "df.drop(['Code','Type','Indicator Name'], axis=1, inplace=True)\n",
    "df = df.T\n",
    "df = df.iloc[:,1:]\n",
    "df.columns = df.iloc[0,:]\n",
    "df = df.iloc[1:,:]\n",
    "df.index.name = 'Dates'\n",
    "df = df.fillna(0)\n",
    "\n",
    "df = df[['Hungary','Austria','Germany','Bulgaria','United Kingdom','France','Luxembourg',\n",
    "         'Italy','Denmark','Finland','Slovak Republic','Ireland','Spain','Malta','Croatia',\n",
    "         'Poland','Lithuania','Slovenia','Romania','Latvia','Netherlands','Estonia','Belgium',\n",
    "         'Czech Republic','Greece','Portugal','Sweden','Cyprus']]"
   ]
  },
  {
   "cell_type": "markdown",
   "id": "724a9b03",
   "metadata": {},
   "source": [
    "* Create the plot"
   ]
  },
  {
   "cell_type": "code",
   "execution_count": null,
   "id": "08b52107",
   "metadata": {
    "scrolled": true
   },
   "outputs": [],
   "source": [
    "bcr.bar_chart_race(df = df, \n",
    "                   figsize = (6,3),\n",
    "                   #filename = 'European_Military_Cost.html',  \n",
    "                   n_bars = 20, \n",
    "                   fixed_max = True, \n",
    "                   #fixed_order = True,\n",
    "                   dpi = 300, \n",
    "                   filter_column_colors = True,\n",
    "                   cmap = 'dark12',\n",
    "                   title = 'European Military Costs')"
   ]
  },
  {
   "cell_type": "code",
   "execution_count": null,
   "id": "9d07a2a1",
   "metadata": {},
   "outputs": [],
   "source": []
  }
 ],
 "metadata": {
  "kernelspec": {
   "display_name": "Python 3 (ipykernel)",
   "language": "python",
   "name": "python3"
  },
  "language_info": {
   "codemirror_mode": {
    "name": "ipython",
    "version": 3
   },
   "file_extension": ".py",
   "mimetype": "text/x-python",
   "name": "python",
   "nbconvert_exporter": "python",
   "pygments_lexer": "ipython3",
   "version": "3.10.0"
  }
 },
 "nbformat": 4,
 "nbformat_minor": 5
}
